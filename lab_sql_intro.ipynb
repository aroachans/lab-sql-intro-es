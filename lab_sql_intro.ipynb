{
 "cells": [
  {
   "cell_type": "markdown",
   "metadata": {},
   "source": [
    "**1) Identificar los Principales Tipos de Quejas**\n",
    "\n",
    "Consulta el conjunto de datos para encontrar los 5 tipos principales de quejas basados en el número de quejas registradas.\n",
    "Utiliza GROUP BY para agrupar los datos por tipo de queja y ORDER BY para ordenar los resultados."
   ]
  },
  {
   "cell_type": "markdown",
   "metadata": {},
   "source": [
    "SELECT COMPLAINT_TYPE, count(*) as NUMBER_COMPLAINTS\n",
    "\n",
    "FROM NYC\n",
    "\n",
    "GROUP BY COMPLAINT_TYPE\n",
    "\n",
    "ORDER BY NUMBER_COMPLAINTS DESC\n",
    "\n",
    "LIMIT 5\n"
   ]
  },
  {
   "cell_type": "code",
   "execution_count": null,
   "metadata": {},
   "outputs": [],
   "source": [
    "COMPLAINT_TYPE\tNUMBER_COMPLAINTS\n",
    "Noise - Residential\t198\n",
    "Illegal Parking\t180\n",
    "Noise - Street/Sidewalk\t150\n",
    "Noise - Commercial\t73\n",
    "Blocked Driveway\t55"
   ]
  },
  {
   "cell_type": "markdown",
   "metadata": {},
   "source": [
    "**2) Analizar Quejas por Distrito**\n",
    "\n",
    "Calcula el número total de quejas para cada distrito.\n",
    "Utiliza la cláusula GROUP BY para agrupar los datos por distrito."
   ]
  },
  {
   "cell_type": "markdown",
   "metadata": {},
   "source": [
    "SELECT BOROUGH, count(*)\n",
    "\n",
    "FROM NYC\n",
    "\n",
    "group by BOROUGH\n",
    "\n",
    "order by count(*) DESC\n"
   ]
  },
  {
   "cell_type": "code",
   "execution_count": null,
   "metadata": {},
   "outputs": [],
   "source": [
    "BOROUGH\tCOUNT(*)\n",
    "BROOKLYN\t279\n",
    "QUEENS\t245\n",
    "MANHATTAN\t237\n",
    "BRONX\t197\n",
    "STATEN ISLAND\t42"
   ]
  },
  {
   "cell_type": "markdown",
   "metadata": {},
   "source": [
    "**3) Filtrar Tipos de Quejas de Alto Volumen**\n",
    "\n",
    "Utiliza la cláusula HAVING para filtrar tipos de quejas que tienen más de 1000 quejas registradas.\n",
    "Muestra el tipo de queja y el recuento de quejas."
   ]
  },
  {
   "cell_type": "markdown",
   "metadata": {},
   "source": [
    "SELECT complaint_type, count(*)\n",
    "\n",
    "from NYC\n",
    "\n",
    "group by complaint_type\n",
    "\n",
    "having count(*)>1000\n",
    "\n",
    "order by count(*) DESC\n",
    "\n"
   ]
  },
  {
   "cell_type": "code",
   "execution_count": null,
   "metadata": {},
   "outputs": [],
   "source": [
    "No hay resultados, logicamente, ya que arriba vimos que el maximo era 198"
   ]
  },
  {
   "cell_type": "markdown",
   "metadata": {},
   "source": [
    "**4)Comparación de Distritos para un Tipo Específico de Queja**\n",
    "\n",
    "Elige un tipo particular de queja.\n",
    "Compara el número de dichas quejas en cada distrito."
   ]
  },
  {
   "cell_type": "markdown",
   "metadata": {},
   "source": [
    "SELECT BOROUGH, count(*)\n",
    "\n",
    "from NYC\n",
    "\n",
    "where COMPLAINT_TYPE = 'Blocked Driveway'\n",
    "\n",
    "group by BOROUGH\n",
    "\n",
    "order by count(*) DESC\n"
   ]
  },
  {
   "cell_type": "code",
   "execution_count": null,
   "metadata": {},
   "outputs": [],
   "source": [
    "BOROUGH\tCOUNT(*)\n",
    "QUEENS\t23\n",
    "BROOKLYN\t16\n",
    "BRONX\t15\n",
    "STATEN ISLAND\t1"
   ]
  }
 ],
 "metadata": {
  "kernelspec": {
   "display_name": "Python 3 (ipykernel)",
   "language": "python",
   "name": "python3"
  },
  "language_info": {
   "codemirror_mode": {
    "name": "ipython",
    "version": 3
   },
   "file_extension": ".py",
   "mimetype": "text/x-python",
   "name": "python",
   "nbconvert_exporter": "python",
   "pygments_lexer": "ipython3",
   "version": "3.10.12"
  }
 },
 "nbformat": 4,
 "nbformat_minor": 4
}
